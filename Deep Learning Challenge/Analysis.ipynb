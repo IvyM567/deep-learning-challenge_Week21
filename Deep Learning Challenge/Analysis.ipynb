{
 "cells": [
  {
   "cell_type": "raw",
   "id": "a8f208c5-d947-423c-9b68-563c48aab143",
   "metadata": {},
   "source": [
    "****** Report *******\n",
    "\n",
    "Results Neural Network Model:\n",
    "What variable(s) are the target(s) for your model?\n",
    "    *The target variable is \"IS_SUCCESSFUL\", which tells us if the application was funded or not.\n",
    "\n",
    "What variable(s) are the features for your model?\n",
    "    *\"APPLICATION TYPE\", \"CLASSIFICATION\", \"USE CASE\", \"ASK AMT\", \"ORGANIZATION\", \"INCOME AMT\", \"STATUS\", \"SPECIAL CONSIDERATIONS\"\n",
    "\n",
    "What variable(s) should be removed from the input data because they are neither targets nor features? \n",
    "    * The \"EIN\" and \"NAME\" were dropped\n",
    "\n",
    "How many neurons, layers, and activation functions did you select for your neural network model, and why?\n",
    "    *Neurons- 128, 64, 32, 1 \n",
    "    *Activation Functions- ReLU, Sigmoid\n",
    "    *Oprimizer- Adam\n",
    "    *Loss Function- Binary Crossentropy\n",
    "\n",
    "Were you able to achieve the target model performance?\n",
    "    *Our best model reached 73% acurracy. No it did not meet the target.\n",
    "    \n",
    "What steps did you take in your attempts to increase model performance?\n",
    "    *increase hidden layers and neurons, impemented dropout layers, tuned functions and used Standardscaler.\n",
    "\n",
    "Purpose:\n",
    "**The purpose of this analysis is to build and optimize a neural network model that can predict if AlphabetSoupCharity application funding will be successful or not."
   ]
  }
 ],
 "metadata": {
  "kernelspec": {
   "display_name": "Python 3 (ipykernel)",
   "language": "python",
   "name": "python3"
  },
  "language_info": {
   "codemirror_mode": {
    "name": "ipython",
    "version": 3
   },
   "file_extension": ".py",
   "mimetype": "text/x-python",
   "name": "python",
   "nbconvert_exporter": "python",
   "pygments_lexer": "ipython3",
   "version": "3.10.15"
  }
 },
 "nbformat": 4,
 "nbformat_minor": 5
}
